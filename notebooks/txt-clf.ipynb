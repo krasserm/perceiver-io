{
 "cells": [
  {
   "cell_type": "markdown",
   "id": "b49dc803",
   "metadata": {},
   "source": [
    "# Sentiment classification"
   ]
  },
  {
   "cell_type": "code",
   "execution_count": 1,
   "id": "22d1d2ff",
   "metadata": {},
   "outputs": [],
   "source": [
    "import torch\n",
    "\n",
    "from perceiver.data import TextPreprocessor\n",
    "from perceiver.model import LitTextClassifier"
   ]
  },
  {
   "cell_type": "code",
   "execution_count": 2,
   "id": "a1548d53",
   "metadata": {},
   "outputs": [],
   "source": [
    "imdb_preproc = TextPreprocessor(tokenizer_path='../.cache/imdb-tokenizer-10003.json')"
   ]
  },
  {
   "cell_type": "code",
   "execution_count": 3,
   "id": "c9c44a96",
   "metadata": {},
   "outputs": [
    {
     "name": "stdout",
     "output_type": "stream",
     "text": [
      "File ‘logs.zip’ already there; not retrieving.\r\n"
     ]
    }
   ],
   "source": [
    "# Download model checkpoints\n",
    "!wget -nc -O logs.zip https://martin-krasser.com/perceiver/logs-update-1.zip\n",
    "!unzip -qo logs.zip"
   ]
  },
  {
   "cell_type": "code",
   "execution_count": 4,
   "id": "6d777633",
   "metadata": {},
   "outputs": [],
   "source": [
    "ckpt_path = '../logs/seq_clf/version_1/checkpoints/epoch=025-val_loss=0.256.ckpt'\n",
    "\n",
    "model = LitTextClassifier.load_from_checkpoint(ckpt_path, clf_ckpt=None).model\n",
    "model.eval();"
   ]
  },
  {
   "cell_type": "code",
   "execution_count": 5,
   "id": "c73065af",
   "metadata": {},
   "outputs": [],
   "source": [
    "text_batch = [\n",
    "    \"I've seen this movie yesterday and it was really boring\",\n",
    "    \"I can recommend this movie to all fantasy movie lovers\"\n",
    "]"
   ]
  },
  {
   "cell_type": "code",
   "execution_count": 6,
   "id": "d8616e4e",
   "metadata": {},
   "outputs": [],
   "source": [
    "with torch.no_grad():\n",
    "    logits = model(*imdb_preproc.preprocess_batch(text_batch))\n",
    "    preds = logits.argmax(dim=1)"
   ]
  },
  {
   "cell_type": "code",
   "execution_count": 7,
   "id": "1a996246",
   "metadata": {},
   "outputs": [
    {
     "name": "stdout",
     "output_type": "stream",
     "text": [
      "I've seen this movie yesterday and it was really boring (positive = False)\n",
      "I can recommend this movie to all fantasy movie lovers (positive = True)\n"
     ]
    }
   ],
   "source": [
    "for text, pred in zip(text_batch, preds):\n",
    "    print(f'{text} (positive = {pred == 1})')"
   ]
  }
 ],
 "metadata": {
  "kernelspec": {
   "display_name": "Python 3 (ipykernel)",
   "language": "python",
   "name": "python3"
  },
  "language_info": {
   "codemirror_mode": {
    "name": "ipython",
    "version": 3
   },
   "file_extension": ".py",
   "mimetype": "text/x-python",
   "name": "python",
   "nbconvert_exporter": "python",
   "pygments_lexer": "ipython3",
   "version": "3.9.7"
  }
 },
 "nbformat": 4,
 "nbformat_minor": 5
}
